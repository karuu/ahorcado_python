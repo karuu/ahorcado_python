{
 "cells": [
  {
   "cell_type": "markdown",
   "metadata": {},
   "source": [
    "## Ahorcado\n",
    "\n",
    "Juego de ahorcado en python\n",
    "1) Definición de palabra\n",
    "2) Número de intentos\n",
    "3) Pedir input de usuario\n",
    "4) Resultado de pérdida o acierto"
   ]
  },
  {
   "cell_type": "code",
   "execution_count": 92,
   "metadata": {},
   "outputs": [],
   "source": [
    "def ahorcado():\n",
    "    # Definir una lista de palabras y tomar una aleatoria con random\n",
    "    palabra_secreta =\"barb\"\n",
    "    letras_adivinadas=[]\n",
    "    #lista para almacenar letras que concierden con mi palabra\n",
    "    intentos = 5 \n",
    "\n",
    "    while intentos > 0:\n",
    "        palabra_mostrada = \"\"\n",
    "        for letra in palabra_secreta:\n",
    "            if letra in letras_adivinadas:\n",
    "                palabra_mostrada += letra\n",
    "            else:\n",
    "                palabra_mostrada += \"_ \"\n",
    "        print(palabra_mostrada)\n",
    "        \n",
    "        if palabra_mostrada == palabra_secreta:\n",
    "            print(\"Haz adivinado la palabra\")\n",
    "            break\n",
    "\n",
    "       \n",
    "        #pedir usuario una lerta\n",
    "        letra_usuario = input(\"Ingrese letra :\")\n",
    "\n",
    "        #Verificar letra\n",
    "        if letra_usuario in letras_adivinadas:\n",
    "            print(\"Ya has adivinado esa letra\")\n",
    "            continue\n",
    "        if letra_usuario in palabra_secreta:\n",
    "            print (\"Tu letra está en la palabra\")\n",
    "            letras_adivinadas.append(letra_usuario)\n",
    "        else:\n",
    "            intentos -= 1\n",
    "            print (f\"Incorrecto, te quedan {intentos} intentos\")\n",
    "\n",
    "        if intentos == 0:\n",
    "            print(f\"Perdiste, la palabra era {palabra_secreta}\")"
   ]
  },
  {
   "cell_type": "code",
   "execution_count": 91,
   "metadata": {},
   "outputs": [
    {
     "name": "stdout",
     "output_type": "stream",
     "text": [
      "_ _ _ _ \n",
      " tu letra está en la palabra\n",
      "b_ _ b\n",
      "ya has adivinado esa letra\n",
      "b_ _ b\n",
      "ya has adivinado esa letra\n",
      "b_ _ b\n",
      "ya has adivinado esa letra\n",
      "b_ _ b\n",
      "ya has adivinado esa letra\n",
      "b_ _ b\n",
      "ya has adivinado esa letra\n",
      "b_ _ b\n",
      "ya has adivinado esa letra\n",
      "b_ _ b\n",
      "ya has adivinado esa letra\n",
      "b_ _ b\n",
      "ya has adivinado esa letra\n",
      "b_ _ b\n",
      "incorrecto, te quedan 4 intentos\n",
      "b_ _ b\n",
      " tu letra está en la palabra\n",
      "b_ _ b\n",
      "ya has adivinado esa letra\n",
      "b_ _ b\n",
      "ya has adivinado esa letra\n",
      "b_ _ b\n",
      "ya has adivinado esa letra\n",
      "b_ _ b\n",
      "ya has adivinado esa letra\n",
      "b_ _ b\n",
      "incorrecto, te quedan 3 intentos\n",
      "b_ _ b\n",
      "ya has adivinado esa letra\n",
      "b_ _ b\n",
      "ya has adivinado esa letra\n",
      "b_ _ b\n",
      "ya has adivinado esa letra\n",
      "b_ _ b\n",
      "ya has adivinado esa letra\n",
      "b_ _ b\n",
      "ya has adivinado esa letra\n",
      "b_ _ b\n",
      "ya has adivinado esa letra\n",
      "b_ _ b\n",
      "incorrecto, te quedan 2 intentos\n",
      "b_ _ b\n",
      "incorrecto, te quedan 1 intentos\n",
      "b_ _ b\n",
      "ya has adivinado esa letra\n",
      "b_ _ b\n",
      "ya has adivinado esa letra\n",
      "b_ _ b\n",
      "ya has adivinado esa letra\n",
      "b_ _ b\n",
      "ya has adivinado esa letra\n",
      "b_ _ b\n",
      "ya has adivinado esa letra\n",
      "b_ _ b\n",
      "incorrecto, te quedan 0 intentos\n",
      " Perdiste, la palabra era barb\n"
     ]
    }
   ],
   "source": [
    "ahorcado()"
   ]
  },
  {
   "cell_type": "code",
   "execution_count": null,
   "metadata": {},
   "outputs": [],
   "source": []
  }
 ],
 "metadata": {
  "kernelspec": {
   "display_name": "Python 3",
   "language": "python",
   "name": "python3"
  },
  "language_info": {
   "codemirror_mode": {
    "name": "ipython",
    "version": 3
   },
   "file_extension": ".py",
   "mimetype": "text/x-python",
   "name": "python",
   "nbconvert_exporter": "python",
   "pygments_lexer": "ipython3",
   "version": "3.12.1"
  }
 },
 "nbformat": 4,
 "nbformat_minor": 2
}
